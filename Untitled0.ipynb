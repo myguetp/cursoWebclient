{
  "nbformat": 4,
  "nbformat_minor": 0,
  "metadata": {
    "colab": {
      "provenance": [],
      "authorship_tag": "ABX9TyN6RjoSoSBYaoHDqc9RYSTh",
      "include_colab_link": true
    },
    "kernelspec": {
      "name": "python3",
      "display_name": "Python 3"
    },
    "language_info": {
      "name": "python"
    }
  },
  "cells": [
    {
      "cell_type": "markdown",
      "metadata": {
        "id": "view-in-github",
        "colab_type": "text"
      },
      "source": [
        "<a href=\"https://colab.research.google.com/github/myguetp/cursoWebclient/blob/main/Untitled0.ipynb\" target=\"_parent\"><img src=\"https://colab.research.google.com/assets/colab-badge.svg\" alt=\"Open In Colab\"/></a>"
      ]
    },
    {
      "cell_type": "code",
      "execution_count": 4,
      "metadata": {
        "id": "V5DvmzWn4kKy"
      },
      "outputs": [],
      "source": [
        "import tensorflow as tf\n",
        "import numpy as np"
      ]
    },
    {
      "cell_type": "code",
      "source": [
        "celsius = np.array([-40, -10, 0, 8, 15, 22, 38], dtype=float)\n",
        "fahrenheit = np.array([-40, 14, 32, 46, 59, 72, 100], dtype=float)"
      ],
      "metadata": {
        "id": "JDvXkD8Q5D8D"
      },
      "execution_count": 8,
      "outputs": []
    },
    {
      "cell_type": "code",
      "source": [
        "#capa = tf.keras.layers.Dense(units=1, input_shape=[1])\n",
        "#modelo = tf.keras.Sequential([capa])\n",
        "\n",
        "oculta1 = tf.keras.layers.Dense(units=4, input_shape=[1])\n",
        "oculta2 = tf.keras.layers.Dense(units=4)\n",
        "oculta3 = tf.keras.layers.Dense(units=4)\n",
        "salida = tf.keras.layers.Dense(units=1)\n",
        "modelo = tf.keras.Sequential([oculta1, oculta2, oculta3, salida])\n"
      ],
      "metadata": {
        "id": "wVTfCbiv5_4D"
      },
      "execution_count": 35,
      "outputs": []
    },
    {
      "cell_type": "code",
      "source": [
        "modelo.compile(\n",
        "    optimizer=tf.keras.optimizers.Adam(0.09),\n",
        "    loss='mean_squared_error'\n",
        ")"
      ],
      "metadata": {
        "id": "iVOJuOOv7L8W"
      },
      "execution_count": 36,
      "outputs": []
    },
    {
      "cell_type": "code",
      "source": [
        "print('comenzar entrenamiento')\n",
        "historial = modelo.fit(celsius, fahrenheit, epochs=1000, verbose=False)\n",
        "print('Modelo Entrenado')"
      ],
      "metadata": {
        "colab": {
          "base_uri": "https://localhost:8080/"
        },
        "id": "ZjqPR6mq73A8",
        "outputId": "755001bb-dc0a-4be8-c0dc-5d9ffcc44eb0"
      },
      "execution_count": 37,
      "outputs": [
        {
          "output_type": "stream",
          "name": "stdout",
          "text": [
            "comenzar entrenamiento\n",
            "Modelo Entrenado\n"
          ]
        }
      ]
    },
    {
      "cell_type": "code",
      "source": [
        "import matplotlib.pyplot as plt\n",
        "plt.xlabel(\"# Epoca\")\n",
        "plt.ylabel(\"Magnitud de Perdida\")\n",
        "plt.plot(historial.history[\"loss\"])"
      ],
      "metadata": {
        "colab": {
          "base_uri": "https://localhost:8080/",
          "height": 299
        },
        "id": "L8WDl9KM8mRS",
        "outputId": "14718647-9954-497e-f758-48154e6ef966"
      },
      "execution_count": 38,
      "outputs": [
        {
          "output_type": "execute_result",
          "data": {
            "text/plain": [
              "[<matplotlib.lines.Line2D at 0x7faf268d6d00>]"
            ]
          },
          "metadata": {},
          "execution_count": 38
        },
        {
          "output_type": "display_data",
          "data": {
            "text/plain": [
              "<Figure size 432x288 with 1 Axes>"
            ],
            "image/png": "[encoded data removed]"
          },
          "metadata": {
            "needs_background": "light"
          }
        }
      ]
    },
    {
      "cell_type": "code",
      "source": [
        "print(\"Hagamso uan predicción\")\n",
        "resultado = modelo.predict([100.0])\n",
        "print(\"el resultado es \"+ str(resultado) + \"fahrenheit\")"
      ],
      "metadata": {
        "colab": {
          "base_uri": "https://localhost:8080/"
        },
        "id": "ZfXHCrGe9YhE",
        "outputId": "0279139f-ccb0-4d99-f43c-faddae6c779f"
      },
      "execution_count": 39,
      "outputs": [
        {
          "output_type": "stream",
          "name": "stdout",
          "text": [
            "Hagamso uan predicción\n",
            "1/1 [==============================] - 0s 73ms/step\n",
            "el resultado es [[211.74744]]fahrenheit\n"
          ]
        }
      ]
    },
    {
      "cell_type": "code",
      "source": [
        "print(\"variables internas del modelo\")\n",
        "print(oculta1.get_weights())\n",
        "print(oculta2.get_weights())\n",
        "print(salida.get_weights())"
      ],
      "metadata": {
        "colab": {
          "base_uri": "https://localhost:8080/"
        },
        "id": "jxJ8QXPH-yum",
        "outputId": "11946276-becf-431b-caee-552808507fff"
      },
      "execution_count": 40,
      "outputs": [
        {
          "output_type": "stream",
          "name": "stdout",
          "text": [
            "variables internas del modelo\n",
            "[array([[-0.01129352,  0.22025932,  0.78602743,  0.34118974]],\n",
            "      dtype=float32), array([0.7917535, 3.170814 , 3.2633905, 2.0999973], dtype=float32)]\n",
            "[array([[ 0.15388617,  0.2801803 ,  0.20839547, -0.03407535],\n",
            "       [ 0.787132  ,  0.31886354, -0.26548347,  1.029255  ],\n",
            "       [ 0.8870388 ,  0.68324524, -0.15991412, -0.16123226],\n",
            "       [-0.54846925,  0.4951282 ,  0.0527745 ,  0.32475588]],\n",
            "      dtype=float32), array([ 2.9773245,  3.0666413, -2.1100104,  3.1780567], dtype=float32)]\n",
            "[array([[-1.0670115 ],\n",
            "       [ 0.14245544],\n",
            "       [ 0.1950185 ],\n",
            "       [ 0.26713228]], dtype=float32), array([2.9887388], dtype=float32)]\n"
          ]
        }
      ]
    },
    {
      "cell_type": "code",
      "source": [],
      "metadata": {
        "id": "e5IVyHLb_d_x"
      },
      "execution_count": null,
      "outputs": []
    }
  ]
}